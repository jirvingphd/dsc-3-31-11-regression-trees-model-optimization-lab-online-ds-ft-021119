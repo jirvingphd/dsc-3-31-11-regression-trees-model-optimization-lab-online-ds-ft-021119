{
 "cells": [
  {
   "cell_type": "markdown",
   "metadata": {
    "toc": true
   },
   "source": [
    "<h1>Table of Contents<span class=\"tocSkip\"></span></h1>\n",
    "<div class=\"toc\"><ul class=\"toc-item\"><li><span><a href=\"#Regression-Trees-and-Model-Optimization---Lab\" data-toc-modified-id=\"Regression-Trees-and-Model-Optimization---Lab-1\">Regression Trees and Model Optimization - Lab</a></span><ul class=\"toc-item\"><li><span><a href=\"#Introduction\" data-toc-modified-id=\"Introduction-1.1\">Introduction</a></span></li><li><span><a href=\"#Objectives\" data-toc-modified-id=\"Objectives-1.2\">Objectives</a></span></li><li><span><a href=\"#Boston-Housing-Dataset---Again-!\" data-toc-modified-id=\"Boston-Housing-Dataset---Again-!-1.3\">Boston Housing Dataset - Again !</a></span></li><li><span><a href=\"#Identify-Features-and-Target-Data\" data-toc-modified-id=\"Identify-Features-and-Target-Data-1.4\">Identify Features and Target Data</a></span></li><li><span><a href=\"#Inspect-Correlations\" data-toc-modified-id=\"Inspect-Correlations-1.5\">Inspect Correlations</a></span></li><li><span><a href=\"#Create-Evaluation-Metrics\" data-toc-modified-id=\"Create-Evaluation-Metrics-1.6\">Create Evaluation Metrics</a></span></li><li><span><a href=\"#Supervised-Training\" data-toc-modified-id=\"Supervised-Training-1.7\">Supervised Training</a></span></li><li><span><a href=\"#Grow-a-Vanilla-Regression-Tree\" data-toc-modified-id=\"Grow-a-Vanilla-Regression-Tree-1.8\">Grow a Vanilla Regression Tree</a></span></li><li><span><a href=\"#Hyperparameter-Tuning\" data-toc-modified-id=\"Hyperparameter-Tuning-1.9\">Hyperparameter Tuning</a></span><ul class=\"toc-item\"><li><span><a href=\"#def-tune_params_dtr-for-JMI_MVM\" data-toc-modified-id=\"def-tune_params_dtr-for-JMI_MVM-1.9.1\">def tune_params_dtr for JMI_MVM</a></span></li></ul></li><li><span><a href=\"#More-Hyperparameter-Tuning\" data-toc-modified-id=\"More-Hyperparameter-Tuning-1.10\">More Hyperparameter Tuning</a></span></li></ul></li><li><span><a href=\"#Run-the-&quot;Optimized&quot;-Model\" data-toc-modified-id=\"Run-the-&quot;Optimized&quot;-Model-2\">Run the \"Optimized\" Model</a></span><ul class=\"toc-item\"><li><span><a href=\"#Visualize-the-tree\" data-toc-modified-id=\"Visualize-the-tree-2.1\">Visualize the tree</a></span></li><li><span><a href=\"#Level-Up---Optional\" data-toc-modified-id=\"Level-Up---Optional-2.2\">Level Up - Optional</a></span></li><li><span><a href=\"#Summary\" data-toc-modified-id=\"Summary-2.3\">Summary</a></span></li></ul></li></ul></div>"
   ]
  },
  {
   "cell_type": "markdown",
   "metadata": {},
   "source": [
    "# Regression Trees and Model Optimization - Lab\n",
    "\n",
    "## Introduction\n",
    "\n",
    "In this final lab, we shall see how to apply regression analysis using CART trees for regression, with some hyper parameter tuning as we saw in the case of classification. For a comparison of predictive capabilities and computational cost, we shall work the \"Boston Housing\" dataset. This will allow us to compare different regression approaches in terms of their accuracy and cost involved. \n",
    "\n",
    "## Objectives\n",
    "You will be able to:\n",
    "- Apply predictive regression analysis with CART trees\n",
    "- Get the data ready for modeling\n",
    "- Tune the key hyper parameters based a various models developed during training \n",
    "- Study the impact of tree pruning on the quality of predictions"
   ]
  },
  {
   "cell_type": "markdown",
   "metadata": {},
   "source": [
    "## Boston Housing Dataset - Again ! \n",
    "\n",
    "The dataset is available in the repo as `boston.csv`. \n",
    "\n",
    "- Load the Dataset and print its head and dimensions"
   ]
  },
  {
   "cell_type": "code",
   "execution_count": 1,
   "metadata": {},
   "outputs": [],
   "source": [
    "from JMI_MVM import *"
   ]
  },
  {
   "cell_type": "code",
   "execution_count": 2,
   "metadata": {},
   "outputs": [
    {
     "data": {
      "text/html": [
       "<div>\n",
       "<style scoped>\n",
       "    .dataframe tbody tr th:only-of-type {\n",
       "        vertical-align: middle;\n",
       "    }\n",
       "\n",
       "    .dataframe tbody tr th {\n",
       "        vertical-align: top;\n",
       "    }\n",
       "\n",
       "    .dataframe thead th {\n",
       "        text-align: right;\n",
       "    }\n",
       "</style>\n",
       "<table border=\"1\" class=\"dataframe\">\n",
       "  <thead>\n",
       "    <tr style=\"text-align: right;\">\n",
       "      <th></th>\n",
       "      <th>crim</th>\n",
       "      <th>zn</th>\n",
       "      <th>indus</th>\n",
       "      <th>chas</th>\n",
       "      <th>nox</th>\n",
       "      <th>rm</th>\n",
       "      <th>age</th>\n",
       "      <th>dis</th>\n",
       "      <th>rad</th>\n",
       "      <th>tax</th>\n",
       "      <th>ptratio</th>\n",
       "      <th>black</th>\n",
       "      <th>lstat</th>\n",
       "      <th>medv</th>\n",
       "    </tr>\n",
       "  </thead>\n",
       "  <tbody>\n",
       "    <tr>\n",
       "      <th>1</th>\n",
       "      <td>0.00632</td>\n",
       "      <td>18.0</td>\n",
       "      <td>2.31</td>\n",
       "      <td>0</td>\n",
       "      <td>0.538</td>\n",
       "      <td>6.575</td>\n",
       "      <td>65.2</td>\n",
       "      <td>4.0900</td>\n",
       "      <td>1</td>\n",
       "      <td>296</td>\n",
       "      <td>15.3</td>\n",
       "      <td>396.90</td>\n",
       "      <td>4.98</td>\n",
       "      <td>24.0</td>\n",
       "    </tr>\n",
       "    <tr>\n",
       "      <th>2</th>\n",
       "      <td>0.02731</td>\n",
       "      <td>0.0</td>\n",
       "      <td>7.07</td>\n",
       "      <td>0</td>\n",
       "      <td>0.469</td>\n",
       "      <td>6.421</td>\n",
       "      <td>78.9</td>\n",
       "      <td>4.9671</td>\n",
       "      <td>2</td>\n",
       "      <td>242</td>\n",
       "      <td>17.8</td>\n",
       "      <td>396.90</td>\n",
       "      <td>9.14</td>\n",
       "      <td>21.6</td>\n",
       "    </tr>\n",
       "    <tr>\n",
       "      <th>3</th>\n",
       "      <td>0.02729</td>\n",
       "      <td>0.0</td>\n",
       "      <td>7.07</td>\n",
       "      <td>0</td>\n",
       "      <td>0.469</td>\n",
       "      <td>7.185</td>\n",
       "      <td>61.1</td>\n",
       "      <td>4.9671</td>\n",
       "      <td>2</td>\n",
       "      <td>242</td>\n",
       "      <td>17.8</td>\n",
       "      <td>392.83</td>\n",
       "      <td>4.03</td>\n",
       "      <td>34.7</td>\n",
       "    </tr>\n",
       "    <tr>\n",
       "      <th>4</th>\n",
       "      <td>0.03237</td>\n",
       "      <td>0.0</td>\n",
       "      <td>2.18</td>\n",
       "      <td>0</td>\n",
       "      <td>0.458</td>\n",
       "      <td>6.998</td>\n",
       "      <td>45.8</td>\n",
       "      <td>6.0622</td>\n",
       "      <td>3</td>\n",
       "      <td>222</td>\n",
       "      <td>18.7</td>\n",
       "      <td>394.63</td>\n",
       "      <td>2.94</td>\n",
       "      <td>33.4</td>\n",
       "    </tr>\n",
       "    <tr>\n",
       "      <th>5</th>\n",
       "      <td>0.06905</td>\n",
       "      <td>0.0</td>\n",
       "      <td>2.18</td>\n",
       "      <td>0</td>\n",
       "      <td>0.458</td>\n",
       "      <td>7.147</td>\n",
       "      <td>54.2</td>\n",
       "      <td>6.0622</td>\n",
       "      <td>3</td>\n",
       "      <td>222</td>\n",
       "      <td>18.7</td>\n",
       "      <td>396.90</td>\n",
       "      <td>5.33</td>\n",
       "      <td>36.2</td>\n",
       "    </tr>\n",
       "  </tbody>\n",
       "</table>\n",
       "</div>"
      ],
      "text/plain": [
       "      crim    zn  indus  chas    nox     rm   age     dis  rad  tax  ptratio  \\\n",
       "1  0.00632  18.0   2.31     0  0.538  6.575  65.2  4.0900    1  296     15.3   \n",
       "2  0.02731   0.0   7.07     0  0.469  6.421  78.9  4.9671    2  242     17.8   \n",
       "3  0.02729   0.0   7.07     0  0.469  7.185  61.1  4.9671    2  242     17.8   \n",
       "4  0.03237   0.0   2.18     0  0.458  6.998  45.8  6.0622    3  222     18.7   \n",
       "5  0.06905   0.0   2.18     0  0.458  7.147  54.2  6.0622    3  222     18.7   \n",
       "\n",
       "    black  lstat  medv  \n",
       "1  396.90   4.98  24.0  \n",
       "2  396.90   9.14  21.6  \n",
       "3  392.83   4.03  34.7  \n",
       "4  394.63   2.94  33.4  \n",
       "5  396.90   5.33  36.2  "
      ]
     },
     "execution_count": 2,
     "metadata": {},
     "output_type": "execute_result"
    }
   ],
   "source": [
    "# Your code here \n",
    "df = pd.read_csv('boston.csv',index_col=0)\n",
    "df.head()"
   ]
  },
  {
   "cell_type": "code",
   "execution_count": 3,
   "metadata": {},
   "outputs": [],
   "source": [
    "X = df[['rm','lstat','ptratio']].copy()\n",
    "Y = df['medv']"
   ]
  },
  {
   "cell_type": "markdown",
   "metadata": {},
   "source": [
    "## Identify Features and Target Data\n",
    "In this lab, we shall use three features from the Boston housing dataset: `'RM'`, `'LSTAT'`, and `'PTRATIO'`. For each data point:\n",
    "\n",
    "#### Features\n",
    "- `'RM'` is the average number of rooms among homes in the neighborhood.\n",
    "- `'LSTAT'` is the percentage of homeowners in the neighborhood considered \"lower class\" (working poor).\n",
    "- `'PTRATIO'` is the ratio of students to teachers in primary and secondary schools in the neighborhood.\n",
    "\n",
    "#### Target\n",
    "- `MEDV`' has been multiplicatively scaled to account for 35 years of market inflation.\n",
    "\n",
    "\n",
    "- Create dataframes for features and target as shown above. \n",
    "- Inspect the contents for validity "
   ]
  },
  {
   "cell_type": "code",
   "execution_count": 4,
   "metadata": {},
   "outputs": [
    {
     "data": {
      "text/html": [
       "<div>\n",
       "<style scoped>\n",
       "    .dataframe tbody tr th:only-of-type {\n",
       "        vertical-align: middle;\n",
       "    }\n",
       "\n",
       "    .dataframe tbody tr th {\n",
       "        vertical-align: top;\n",
       "    }\n",
       "\n",
       "    .dataframe thead th {\n",
       "        text-align: right;\n",
       "    }\n",
       "</style>\n",
       "<table border=\"1\" class=\"dataframe\">\n",
       "  <thead>\n",
       "    <tr style=\"text-align: right;\">\n",
       "      <th></th>\n",
       "      <th>rm</th>\n",
       "      <th>lstat</th>\n",
       "      <th>ptratio</th>\n",
       "      <th>medv</th>\n",
       "    </tr>\n",
       "  </thead>\n",
       "  <tbody>\n",
       "    <tr>\n",
       "      <th>count</th>\n",
       "      <td>506.000000</td>\n",
       "      <td>506.000000</td>\n",
       "      <td>506.000000</td>\n",
       "      <td>506.000000</td>\n",
       "    </tr>\n",
       "    <tr>\n",
       "      <th>mean</th>\n",
       "      <td>6.284634</td>\n",
       "      <td>12.653063</td>\n",
       "      <td>18.455534</td>\n",
       "      <td>22.532806</td>\n",
       "    </tr>\n",
       "    <tr>\n",
       "      <th>std</th>\n",
       "      <td>0.702617</td>\n",
       "      <td>7.141062</td>\n",
       "      <td>2.164946</td>\n",
       "      <td>9.197104</td>\n",
       "    </tr>\n",
       "    <tr>\n",
       "      <th>min</th>\n",
       "      <td>3.561000</td>\n",
       "      <td>1.730000</td>\n",
       "      <td>12.600000</td>\n",
       "      <td>5.000000</td>\n",
       "    </tr>\n",
       "    <tr>\n",
       "      <th>25%</th>\n",
       "      <td>5.885500</td>\n",
       "      <td>6.950000</td>\n",
       "      <td>17.400000</td>\n",
       "      <td>17.025000</td>\n",
       "    </tr>\n",
       "    <tr>\n",
       "      <th>50%</th>\n",
       "      <td>6.208500</td>\n",
       "      <td>11.360000</td>\n",
       "      <td>19.050000</td>\n",
       "      <td>21.200000</td>\n",
       "    </tr>\n",
       "    <tr>\n",
       "      <th>75%</th>\n",
       "      <td>6.623500</td>\n",
       "      <td>16.955000</td>\n",
       "      <td>20.200000</td>\n",
       "      <td>25.000000</td>\n",
       "    </tr>\n",
       "    <tr>\n",
       "      <th>max</th>\n",
       "      <td>8.780000</td>\n",
       "      <td>37.970000</td>\n",
       "      <td>22.000000</td>\n",
       "      <td>50.000000</td>\n",
       "    </tr>\n",
       "  </tbody>\n",
       "</table>\n",
       "</div>"
      ],
      "text/plain": [
       "               rm       lstat     ptratio        medv\n",
       "count  506.000000  506.000000  506.000000  506.000000\n",
       "mean     6.284634   12.653063   18.455534   22.532806\n",
       "std      0.702617    7.141062    2.164946    9.197104\n",
       "min      3.561000    1.730000   12.600000    5.000000\n",
       "25%      5.885500    6.950000   17.400000   17.025000\n",
       "50%      6.208500   11.360000   19.050000   21.200000\n",
       "75%      6.623500   16.955000   20.200000   25.000000\n",
       "max      8.780000   37.970000   22.000000   50.000000"
      ]
     },
     "execution_count": 4,
     "metadata": {},
     "output_type": "execute_result"
    }
   ],
   "source": [
    "# Your code here \n",
    "df_EDA = pd.concat([X, Y],axis=1)\n",
    "df_EDA.describe()"
   ]
  },
  {
   "cell_type": "code",
   "execution_count": 5,
   "metadata": {},
   "outputs": [
    {
     "name": "stdout",
     "output_type": "stream",
     "text": [
      "<class 'pandas.core.frame.DataFrame'>\n",
      "Int64Index: 506 entries, 1 to 506\n",
      "Data columns (total 3 columns):\n",
      "rm         506 non-null float64\n",
      "lstat      506 non-null float64\n",
      "ptratio    506 non-null float64\n",
      "dtypes: float64(3)\n",
      "memory usage: 15.8 KB\n"
     ]
    }
   ],
   "source": [
    "X.info()"
   ]
  },
  {
   "cell_type": "markdown",
   "metadata": {},
   "source": [
    "## Inspect Correlations \n",
    "\n",
    "- Use scatter plots to show the correlation between chosen features and target variable\n",
    "- Comment on each scatter plot "
   ]
  },
  {
   "cell_type": "code",
   "execution_count": 6,
   "metadata": {},
   "outputs": [
    {
     "data": {
      "image/png": "[encoded data removed]",
      "text/plain": [
       "<Figure size 648x504 with 2 Axes>"
      ]
     },
     "metadata": {},
     "output_type": "display_data"
    },
    {
     "data": {
      "image/png": "[encoded data removed]",
      "text/plain": [
       "<Figure size 648x504 with 2 Axes>"
      ]
     },
     "metadata": {},
     "output_type": "display_data"
    },
    {
     "data": {
      "image/png": "[encoded data removed]",
      "text/plain": [
       "<Figure size 648x504 with 2 Axes>"
      ]
     },
     "metadata": {},
     "output_type": "display_data"
    },
    {
     "data": {
      "image/png": "[encoded data removed]",
      "text/plain": [
       "<Figure size 648x504 with 2 Axes>"
      ]
     },
     "metadata": {},
     "output_type": "display_data"
    }
   ],
   "source": [
    "# Your code here \n",
    "plot_hist_scat_sns(df_EDA,'medv')"
   ]
  },
  {
   "cell_type": "code",
   "execution_count": 7,
   "metadata": {},
   "outputs": [],
   "source": [
    "# Your observations here \n"
   ]
  },
  {
   "cell_type": "markdown",
   "metadata": {},
   "source": [
    "## Create Evaluation Metrics\n",
    "\n",
    "- Create a function `performance(true, predicted)` to calculate and return the r-sqaured score and MSE for two equal sized arrays showing true and predicted values\n",
    "- TEst the function with given data "
   ]
  },
  {
   "cell_type": "code",
   "execution_count": 8,
   "metadata": {},
   "outputs": [
    {
     "data": {
      "text/plain": [
       "(0.9228556485355649, 0.4719999999999998)"
      ]
     },
     "execution_count": 8,
     "metadata": {},
     "output_type": "execute_result"
    }
   ],
   "source": [
    "# Evaluation Metrics\n",
    "# Import metrics\n",
    "from sklearn.metrics import r2_score\n",
    "from sklearn.metrics import mean_squared_error as mse\n",
    "def performance(y_true, y_pred):\n",
    "    \"\"\" Calculates and returns the performance score between \n",
    "        true and predicted values based on the metric chosen. \"\"\"\n",
    "    r2 = r2_score(y_true,y_pred)\n",
    "    MSE = mse(y_true,y_pred)    \n",
    "    return r2, MSE\n",
    "\n",
    "# Calculate the performance - TEST\n",
    "score = performance([3, -0.5, 2, 7, 4.2], [2.5, 0.0, 2.1, 7.8, 5.3])\n",
    "score\n",
    "\n",
    "# [0.9228556485355649, 0.4719999999999998]"
   ]
  },
  {
   "cell_type": "markdown",
   "metadata": {},
   "source": [
    "## Supervised Training \n",
    "- For supervised learning, split the `features` and `target` datasets into training/test data (80/20). \n",
    "- For reproducibility, use `random_state=42`"
   ]
  },
  {
   "cell_type": "code",
   "execution_count": 9,
   "metadata": {},
   "outputs": [
    {
     "name": "stdout",
     "output_type": "stream",
     "text": [
      "[404, 102, 404, 102]\n"
     ]
    }
   ],
   "source": [
    "# Your code here \n",
    "from sklearn.model_selection import train_test_split\n",
    "\n",
    "X_train, X_test, y_train, y_test = train_test_split(X,Y,test_size=0.2, random_state=42)\n",
    "print([len(x) for x in [X_train,X_test,y_train,y_test]])"
   ]
  },
  {
   "cell_type": "markdown",
   "metadata": {},
   "source": [
    "## Grow a Vanilla Regression Tree\n",
    "\n",
    "- Run a baseline model for later comparison using the datasets created above\n",
    "- Generate predictions for test dataset and calculate the performance measures using the function created above.\n",
    "- Use `random_state=45` for tree instance\n",
    "- Record your observations"
   ]
  },
  {
   "cell_type": "code",
   "execution_count": 10,
   "metadata": {},
   "outputs": [
    {
     "data": {
      "text/plain": [
       "(0.47097115950374013, 38.795686274509805)"
      ]
     },
     "execution_count": 10,
     "metadata": {},
     "output_type": "execute_result"
    }
   ],
   "source": [
    "from sklearn.tree import DecisionTreeRegressor\n",
    "dtr = DecisionTreeRegressor(random_state=45)\n",
    "# Your code here \n",
    "dtr.fit(X_train, y_train)\n",
    "y_preds = dtr.predict(X_test)\n",
    "R2, MSE = performance(y_test,y_preds)\n",
    "# (0.4712438851035674, 38.7756862745098)  - R2, MSE\n",
    "R2, MSE"
   ]
  },
  {
   "cell_type": "code",
   "execution_count": 11,
   "metadata": {},
   "outputs": [],
   "source": [
    "# Your observations here \n",
    "# Baseline model performance is very poor. "
   ]
  },
  {
   "cell_type": "markdown",
   "metadata": {},
   "source": [
    "## Hyperparameter Tuning \n",
    "\n",
    "- Find the best tree depth for a depth range: 1-30\n",
    "- Run the regressor repeatedly in a for loop for each depth value. \n",
    "- Use `random_state=45` for reproducibility\n",
    "- Calculate MSE and r-squared for each run \n",
    "- Plot both performance measures, for all runs.\n",
    "- Comment on the output "
   ]
  },
  {
   "cell_type": "markdown",
   "metadata": {},
   "source": [
    "### def tune_params_trees for JMI_MVM"
   ]
  },
  {
   "cell_type": "code",
   "execution_count": 17,
   "metadata": {},
   "outputs": [],
   "source": [
    "# Evaluation Metrics\n",
    "# Import metrics\n",
    "\n",
    "def performance_r2_mse(y_true, y_pred):\n",
    "    \"\"\" Calculates and returns the performance score between \n",
    "        true and predicted values based on the metric chosen. \"\"\"\n",
    "    from sklearn.metrics import r2_score\n",
    "    from sklearn.metrics import mean_squared_error as mse\n",
    "    \n",
    "    r2 = r2_score(y_true,y_pred)\n",
    "    MSE = mse(y_true,y_pred)    \n",
    "    return r2, MSE\n",
    "\n",
    "def performance_\n",
    "# def tune_params_dtr\n",
    "DecisionTreeObject = DecisionTreeRegressor(random_state=45)\n",
    "def tune_params_dtr(param_name,param_values,DecisionTreeObject):\n",
    "    '''Takes a parame_name (str) and param_values (list/array)\n",
    "    Loops through the param_values and re-fits the model and saves performance metrics\n",
    "    Returns:\n",
    "    df_results -- results dataframe\n",
    "    df_style'''\n",
    "    from IPython.display import display\n",
    "    results = [['param_name','param_value','r2_test','MSE_test']]\n",
    "    \n",
    "    dtr_tune =  DecisionTreeObject\n",
    "#     dtr_tune = DecisionTreeRegressor(random_state=45)\n",
    "\n",
    "    # Loop through each param_value\n",
    "    for value in param_values:\n",
    "\n",
    "        # Set the parameters and fit the model\n",
    "        dtr_tune.set_params(**{param_name:value})\n",
    "        dtr_tune.fit(X_train,y_train)\n",
    "\n",
    "        # Get predicitons and test_performance\n",
    "        y_preds = dtr_tune.predict(X_test)\n",
    "        r2_test, mse_test = performance(y_test,y_preds)\n",
    "\n",
    "        # Apend Results\n",
    "        results.append([param_name,value,r2_test,mse_test])\n",
    "\n",
    "    # Convert results to dataframe, set index\n",
    "    df_results = list2df(results)\n",
    "    df_results.set_index('param_value',inplace=True)\n",
    "\n",
    "\n",
    "    # Plot the values in results\n",
    "    df_results.plot(subplots=True,sharex=True)\n",
    "\n",
    "    # Style dataframe for easy visualization\n",
    "    import seaborn as sns\n",
    "    cm = sns.light_palette(\"green\", as_cmap=True)\n",
    "    df_style = df_results.style.background_gradient(cmap=cm,subset=['r2_test','MSE_test'])#,low=results.min(),high=results.max())\n",
    "    display(df_style)\n",
    "    \n",
    "    return df_results, df_style\n"
   ]
  },
  {
   "cell_type": "code",
   "execution_count": 16,
   "metadata": {},
   "outputs": [],
   "source": [
    "# # def tune_params_dtr\n",
    "# def tune_params_trees(param_name,param_values):\n",
    "    \n",
    "#     from IPython.display import display\n",
    "#     results = [['param_name','param_value','r2_test','MSE_test']]\n",
    "\n",
    "#     dtr_tune = DecisionTreeRegressor(random_state=45)\n",
    "\n",
    "#     # Loop through each param_value\n",
    "#     for value in param_values:\n",
    "\n",
    "#         # Set the parameters and fit the model\n",
    "#         dtr_tune.set_params(**{param_name:value})\n",
    "#         dtr_tune.fit(X_train,y_train)\n",
    "\n",
    "#         # Get predicitons and test_performance\n",
    "#         y_preds = dtr_tune.predict(X_test)\n",
    "#         r2_test, mse_test = performance(y_test,y_preds)\n",
    "\n",
    "#         # Apend Results\n",
    "#         results.append([param_name,value,r2_test,mse_test])\n",
    "\n",
    "#     # Convert results to dataframe, set index\n",
    "#     res_df = list2df(results)\n",
    "#     res_df.set_index('param_value',inplace=True)\n",
    "\n",
    "\n",
    "#     # Plot the values in results\n",
    "#     res_df.plot(subplots=True,sharex=True)\n",
    "\n",
    "#     # Style dataframe for easy visualization\n",
    "#     import seaborn as sns\n",
    "#     cm = sns.light_palette(\"green\", as_cmap=True)\n",
    "#     df_style = res_df.style.background_gradient(cmap=cm,subset=['r2_test','MSE_test'])#,low=results.min(),high=results.max())\n",
    "#     display(df_style)\n",
    "    \n",
    "#     return res_df, df_style\n"
   ]
  },
  {
   "cell_type": "code",
   "execution_count": 13,
   "metadata": {},
   "outputs": [
    {
     "ename": "NameError",
     "evalue": "name 'stop' is not defined",
     "output_type": "error",
     "traceback": [
      "\u001b[1;31m---------------------------------------------------------------------------\u001b[0m",
      "\u001b[1;31mNameError\u001b[0m                                 Traceback (most recent call last)",
      "\u001b[1;32m<ipython-input-13-4f76a9dad686>\u001b[0m in \u001b[0;36m<module>\u001b[1;34m\u001b[0m\n\u001b[1;32m----> 1\u001b[1;33m \u001b[0mstop\u001b[0m\u001b[1;33m\u001b[0m\u001b[1;33m\u001b[0m\u001b[0m\n\u001b[0m",
      "\u001b[1;31mNameError\u001b[0m: name 'stop' is not defined"
     ]
    }
   ],
   "source": [
    "stop"
   ]
  },
  {
   "cell_type": "code",
   "execution_count": 18,
   "metadata": {},
   "outputs": [
    {
     "data": {
      "text/html": [
       "<style  type=\"text/css\" >\n",
       "    #T_2f90708c_6455_11e9_974c_9453306e5c34row0_col1 {\n",
       "            background-color:  #e5ffe5;\n",
       "            color:  #000000;\n",
       "        }    #T_2f90708c_6455_11e9_974c_9453306e5c34row0_col2 {\n",
       "            background-color:  #008000;\n",
       "            color:  #f1f1f1;\n",
       "        }    #T_2f90708c_6455_11e9_974c_9453306e5c34row1_col1 {\n",
       "            background-color:  #3ea23e;\n",
       "            color:  #000000;\n",
       "        }    #T_2f90708c_6455_11e9_974c_9453306e5c34row1_col2 {\n",
       "            background-color:  #a7dda7;\n",
       "            color:  #000000;\n",
       "        }    #T_2f90708c_6455_11e9_974c_9453306e5c34row2_col1 {\n",
       "            background-color:  #319b31;\n",
       "            color:  #000000;\n",
       "        }    #T_2f90708c_6455_11e9_974c_9453306e5c34row2_col2 {\n",
       "            background-color:  #b5e4b5;\n",
       "            color:  #000000;\n",
       "        }    #T_2f90708c_6455_11e9_974c_9453306e5c34row3_col1 {\n",
       "            background-color:  #108910;\n",
       "            color:  #f1f1f1;\n",
       "        }    #T_2f90708c_6455_11e9_974c_9453306e5c34row3_col2 {\n",
       "            background-color:  #d5f6d5;\n",
       "            color:  #000000;\n",
       "        }    #T_2f90708c_6455_11e9_974c_9453306e5c34row4_col1 {\n",
       "            background-color:  #038103;\n",
       "            color:  #f1f1f1;\n",
       "        }    #T_2f90708c_6455_11e9_974c_9453306e5c34row4_col2 {\n",
       "            background-color:  #e3fee3;\n",
       "            color:  #000000;\n",
       "        }    #T_2f90708c_6455_11e9_974c_9453306e5c34row5_col1 {\n",
       "            background-color:  #008000;\n",
       "            color:  #f1f1f1;\n",
       "        }    #T_2f90708c_6455_11e9_974c_9453306e5c34row5_col2 {\n",
       "            background-color:  #e5ffe5;\n",
       "            color:  #000000;\n",
       "        }    #T_2f90708c_6455_11e9_974c_9453306e5c34row6_col1 {\n",
       "            background-color:  #49a849;\n",
       "            color:  #000000;\n",
       "        }    #T_2f90708c_6455_11e9_974c_9453306e5c34row6_col2 {\n",
       "            background-color:  #9dd79d;\n",
       "            color:  #000000;\n",
       "        }    #T_2f90708c_6455_11e9_974c_9453306e5c34row7_col1 {\n",
       "            background-color:  #389f38;\n",
       "            color:  #000000;\n",
       "        }    #T_2f90708c_6455_11e9_974c_9453306e5c34row7_col2 {\n",
       "            background-color:  #aee0ae;\n",
       "            color:  #000000;\n",
       "        }    #T_2f90708c_6455_11e9_974c_9453306e5c34row8_col1 {\n",
       "            background-color:  #4ba94b;\n",
       "            color:  #000000;\n",
       "        }    #T_2f90708c_6455_11e9_974c_9453306e5c34row8_col2 {\n",
       "            background-color:  #9bd69b;\n",
       "            color:  #000000;\n",
       "        }    #T_2f90708c_6455_11e9_974c_9453306e5c34row9_col1 {\n",
       "            background-color:  #52ad52;\n",
       "            color:  #000000;\n",
       "        }    #T_2f90708c_6455_11e9_974c_9453306e5c34row9_col2 {\n",
       "            background-color:  #94d294;\n",
       "            color:  #000000;\n",
       "        }    #T_2f90708c_6455_11e9_974c_9453306e5c34row10_col1 {\n",
       "            background-color:  #51ad51;\n",
       "            color:  #000000;\n",
       "        }    #T_2f90708c_6455_11e9_974c_9453306e5c34row10_col2 {\n",
       "            background-color:  #94d294;\n",
       "            color:  #000000;\n",
       "        }    #T_2f90708c_6455_11e9_974c_9453306e5c34row11_col1 {\n",
       "            background-color:  #53ae53;\n",
       "            color:  #000000;\n",
       "        }    #T_2f90708c_6455_11e9_974c_9453306e5c34row11_col2 {\n",
       "            background-color:  #93d193;\n",
       "            color:  #000000;\n",
       "        }    #T_2f90708c_6455_11e9_974c_9453306e5c34row12_col1 {\n",
       "            background-color:  #99d599;\n",
       "            color:  #000000;\n",
       "        }    #T_2f90708c_6455_11e9_974c_9453306e5c34row12_col2 {\n",
       "            background-color:  #4daa4d;\n",
       "            color:  #000000;\n",
       "        }    #T_2f90708c_6455_11e9_974c_9453306e5c34row13_col1 {\n",
       "            background-color:  #9ed79e;\n",
       "            color:  #000000;\n",
       "        }    #T_2f90708c_6455_11e9_974c_9453306e5c34row13_col2 {\n",
       "            background-color:  #48a848;\n",
       "            color:  #000000;\n",
       "        }    #T_2f90708c_6455_11e9_974c_9453306e5c34row14_col1 {\n",
       "            background-color:  #9ed89e;\n",
       "            color:  #000000;\n",
       "        }    #T_2f90708c_6455_11e9_974c_9453306e5c34row14_col2 {\n",
       "            background-color:  #47a747;\n",
       "            color:  #000000;\n",
       "        }    #T_2f90708c_6455_11e9_974c_9453306e5c34row15_col1 {\n",
       "            background-color:  #47a747;\n",
       "            color:  #000000;\n",
       "        }    #T_2f90708c_6455_11e9_974c_9453306e5c34row15_col2 {\n",
       "            background-color:  #9ed89e;\n",
       "            color:  #000000;\n",
       "        }    #T_2f90708c_6455_11e9_974c_9453306e5c34row16_col1 {\n",
       "            background-color:  #55af55;\n",
       "            color:  #000000;\n",
       "        }    #T_2f90708c_6455_11e9_974c_9453306e5c34row16_col2 {\n",
       "            background-color:  #91d091;\n",
       "            color:  #000000;\n",
       "        }    #T_2f90708c_6455_11e9_974c_9453306e5c34row17_col1 {\n",
       "            background-color:  #50ac50;\n",
       "            color:  #000000;\n",
       "        }    #T_2f90708c_6455_11e9_974c_9453306e5c34row17_col2 {\n",
       "            background-color:  #95d395;\n",
       "            color:  #000000;\n",
       "        }    #T_2f90708c_6455_11e9_974c_9453306e5c34row18_col1 {\n",
       "            background-color:  #96d396;\n",
       "            color:  #000000;\n",
       "        }    #T_2f90708c_6455_11e9_974c_9453306e5c34row18_col2 {\n",
       "            background-color:  #4fac4f;\n",
       "            color:  #000000;\n",
       "        }    #T_2f90708c_6455_11e9_974c_9453306e5c34row19_col1 {\n",
       "            background-color:  #9ed79e;\n",
       "            color:  #000000;\n",
       "        }    #T_2f90708c_6455_11e9_974c_9453306e5c34row19_col2 {\n",
       "            background-color:  #48a848;\n",
       "            color:  #000000;\n",
       "        }    #T_2f90708c_6455_11e9_974c_9453306e5c34row20_col1 {\n",
       "            background-color:  #a5dba5;\n",
       "            color:  #000000;\n",
       "        }    #T_2f90708c_6455_11e9_974c_9453306e5c34row20_col2 {\n",
       "            background-color:  #41a441;\n",
       "            color:  #000000;\n",
       "        }    #T_2f90708c_6455_11e9_974c_9453306e5c34row21_col1 {\n",
       "            background-color:  #a5dba5;\n",
       "            color:  #000000;\n",
       "        }    #T_2f90708c_6455_11e9_974c_9453306e5c34row21_col2 {\n",
       "            background-color:  #41a441;\n",
       "            color:  #000000;\n",
       "        }    #T_2f90708c_6455_11e9_974c_9453306e5c34row22_col1 {\n",
       "            background-color:  #a5dba5;\n",
       "            color:  #000000;\n",
       "        }    #T_2f90708c_6455_11e9_974c_9453306e5c34row22_col2 {\n",
       "            background-color:  #41a441;\n",
       "            color:  #000000;\n",
       "        }    #T_2f90708c_6455_11e9_974c_9453306e5c34row23_col1 {\n",
       "            background-color:  #a5dba5;\n",
       "            color:  #000000;\n",
       "        }    #T_2f90708c_6455_11e9_974c_9453306e5c34row23_col2 {\n",
       "            background-color:  #41a441;\n",
       "            color:  #000000;\n",
       "        }    #T_2f90708c_6455_11e9_974c_9453306e5c34row24_col1 {\n",
       "            background-color:  #a5dba5;\n",
       "            color:  #000000;\n",
       "        }    #T_2f90708c_6455_11e9_974c_9453306e5c34row24_col2 {\n",
       "            background-color:  #41a441;\n",
       "            color:  #000000;\n",
       "        }    #T_2f90708c_6455_11e9_974c_9453306e5c34row25_col1 {\n",
       "            background-color:  #a5dba5;\n",
       "            color:  #000000;\n",
       "        }    #T_2f90708c_6455_11e9_974c_9453306e5c34row25_col2 {\n",
       "            background-color:  #41a441;\n",
       "            color:  #000000;\n",
       "        }    #T_2f90708c_6455_11e9_974c_9453306e5c34row26_col1 {\n",
       "            background-color:  #a5dba5;\n",
       "            color:  #000000;\n",
       "        }    #T_2f90708c_6455_11e9_974c_9453306e5c34row26_col2 {\n",
       "            background-color:  #41a441;\n",
       "            color:  #000000;\n",
       "        }    #T_2f90708c_6455_11e9_974c_9453306e5c34row27_col1 {\n",
       "            background-color:  #a5dba5;\n",
       "            color:  #000000;\n",
       "        }    #T_2f90708c_6455_11e9_974c_9453306e5c34row27_col2 {\n",
       "            background-color:  #41a441;\n",
       "            color:  #000000;\n",
       "        }    #T_2f90708c_6455_11e9_974c_9453306e5c34row28_col1 {\n",
       "            background-color:  #a5dba5;\n",
       "            color:  #000000;\n",
       "        }    #T_2f90708c_6455_11e9_974c_9453306e5c34row28_col2 {\n",
       "            background-color:  #41a441;\n",
       "            color:  #000000;\n",
       "        }    #T_2f90708c_6455_11e9_974c_9453306e5c34row29_col1 {\n",
       "            background-color:  #a5dba5;\n",
       "            color:  #000000;\n",
       "        }    #T_2f90708c_6455_11e9_974c_9453306e5c34row29_col2 {\n",
       "            background-color:  #41a441;\n",
       "            color:  #000000;\n",
       "        }</style><table id=\"T_2f90708c_6455_11e9_974c_9453306e5c34\" ><thead>    <tr>        <th class=\"blank level0\" ></th>        <th class=\"col_heading level0 col0\" >param_name</th>        <th class=\"col_heading level0 col1\" >r2_test</th>        <th class=\"col_heading level0 col2\" >MSE_test</th>    </tr>    <tr>        <th class=\"index_name level0\" >param_value</th>        <th class=\"blank\" ></th>        <th class=\"blank\" ></th>        <th class=\"blank\" ></th>    </tr></thead><tbody>\n",
       "                <tr>\n",
       "                        <th id=\"T_2f90708c_6455_11e9_974c_9453306e5c34level0_row0\" class=\"row_heading level0 row0\" >1</th>\n",
       "                        <td id=\"T_2f90708c_6455_11e9_974c_9453306e5c34row0_col0\" class=\"data row0 col0\" >max_depth</td>\n",
       "                        <td id=\"T_2f90708c_6455_11e9_974c_9453306e5c34row0_col1\" class=\"data row0 col1\" >0.360216</td>\n",
       "                        <td id=\"T_2f90708c_6455_11e9_974c_9453306e5c34row0_col2\" class=\"data row0 col2\" >46.9178</td>\n",
       "            </tr>\n",
       "            <tr>\n",
       "                        <th id=\"T_2f90708c_6455_11e9_974c_9453306e5c34level0_row1\" class=\"row_heading level0 row1\" >2</th>\n",
       "                        <td id=\"T_2f90708c_6455_11e9_974c_9453306e5c34row1_col0\" class=\"data row1 col0\" >max_depth</td>\n",
       "                        <td id=\"T_2f90708c_6455_11e9_974c_9453306e5c34row1_col1\" class=\"data row1 col1\" >0.64555</td>\n",
       "                        <td id=\"T_2f90708c_6455_11e9_974c_9453306e5c34row1_col2\" class=\"data row1 col2\" >25.9932</td>\n",
       "            </tr>\n",
       "            <tr>\n",
       "                        <th id=\"T_2f90708c_6455_11e9_974c_9453306e5c34level0_row2\" class=\"row_heading level0 row2\" >3</th>\n",
       "                        <td id=\"T_2f90708c_6455_11e9_974c_9453306e5c34row2_col0\" class=\"data row2 col0\" >max_depth</td>\n",
       "                        <td id=\"T_2f90708c_6455_11e9_974c_9453306e5c34row2_col1\" class=\"data row2 col1\" >0.667922</td>\n",
       "                        <td id=\"T_2f90708c_6455_11e9_974c_9453306e5c34row2_col2\" class=\"data row2 col2\" >24.3525</td>\n",
       "            </tr>\n",
       "            <tr>\n",
       "                        <th id=\"T_2f90708c_6455_11e9_974c_9453306e5c34level0_row3\" class=\"row_heading level0 row3\" >4</th>\n",
       "                        <td id=\"T_2f90708c_6455_11e9_974c_9453306e5c34row3_col0\" class=\"data row3 col0\" >max_depth</td>\n",
       "                        <td id=\"T_2f90708c_6455_11e9_974c_9453306e5c34row3_col1\" class=\"data row3 col1\" >0.722655</td>\n",
       "                        <td id=\"T_2f90708c_6455_11e9_974c_9453306e5c34row3_col2\" class=\"data row3 col2\" >20.3388</td>\n",
       "            </tr>\n",
       "            <tr>\n",
       "                        <th id=\"T_2f90708c_6455_11e9_974c_9453306e5c34level0_row4\" class=\"row_heading level0 row4\" >5</th>\n",
       "                        <td id=\"T_2f90708c_6455_11e9_974c_9453306e5c34row4_col0\" class=\"data row4 col0\" >max_depth</td>\n",
       "                        <td id=\"T_2f90708c_6455_11e9_974c_9453306e5c34row4_col1\" class=\"data row4 col1\" >0.746528</td>\n",
       "                        <td id=\"T_2f90708c_6455_11e9_974c_9453306e5c34row4_col2\" class=\"data row4 col2\" >18.5881</td>\n",
       "            </tr>\n",
       "            <tr>\n",
       "                        <th id=\"T_2f90708c_6455_11e9_974c_9453306e5c34level0_row5\" class=\"row_heading level0 row5\" >6</th>\n",
       "                        <td id=\"T_2f90708c_6455_11e9_974c_9453306e5c34row5_col0\" class=\"data row5 col0\" >max_depth</td>\n",
       "                        <td id=\"T_2f90708c_6455_11e9_974c_9453306e5c34row5_col1\" class=\"data row5 col1\" >0.751589</td>\n",
       "                        <td id=\"T_2f90708c_6455_11e9_974c_9453306e5c34row5_col2\" class=\"data row5 col2\" >18.2169</td>\n",
       "            </tr>\n",
       "            <tr>\n",
       "                        <th id=\"T_2f90708c_6455_11e9_974c_9453306e5c34level0_row6\" class=\"row_heading level0 row6\" >7</th>\n",
       "                        <td id=\"T_2f90708c_6455_11e9_974c_9453306e5c34row6_col0\" class=\"data row6 col0\" >max_depth</td>\n",
       "                        <td id=\"T_2f90708c_6455_11e9_974c_9453306e5c34row6_col1\" class=\"data row6 col1\" >0.626349</td>\n",
       "                        <td id=\"T_2f90708c_6455_11e9_974c_9453306e5c34row6_col2\" class=\"data row6 col2\" >27.4012</td>\n",
       "            </tr>\n",
       "            <tr>\n",
       "                        <th id=\"T_2f90708c_6455_11e9_974c_9453306e5c34level0_row7\" class=\"row_heading level0 row7\" >8</th>\n",
       "                        <td id=\"T_2f90708c_6455_11e9_974c_9453306e5c34row7_col0\" class=\"data row7 col0\" >max_depth</td>\n",
       "                        <td id=\"T_2f90708c_6455_11e9_974c_9453306e5c34row7_col1\" class=\"data row7 col1\" >0.655584</td>\n",
       "                        <td id=\"T_2f90708c_6455_11e9_974c_9453306e5c34row7_col2\" class=\"data row7 col2\" >25.2573</td>\n",
       "            </tr>\n",
       "            <tr>\n",
       "                        <th id=\"T_2f90708c_6455_11e9_974c_9453306e5c34level0_row8\" class=\"row_heading level0 row8\" >9</th>\n",
       "                        <td id=\"T_2f90708c_6455_11e9_974c_9453306e5c34row8_col0\" class=\"data row8 col0\" >max_depth</td>\n",
       "                        <td id=\"T_2f90708c_6455_11e9_974c_9453306e5c34row8_col1\" class=\"data row8 col1\" >0.62406</td>\n",
       "                        <td id=\"T_2f90708c_6455_11e9_974c_9453306e5c34row8_col2\" class=\"data row8 col2\" >27.5691</td>\n",
       "            </tr>\n",
       "            <tr>\n",
       "                        <th id=\"T_2f90708c_6455_11e9_974c_9453306e5c34level0_row9\" class=\"row_heading level0 row9\" >10</th>\n",
       "                        <td id=\"T_2f90708c_6455_11e9_974c_9453306e5c34row9_col0\" class=\"data row9 col0\" >max_depth</td>\n",
       "                        <td id=\"T_2f90708c_6455_11e9_974c_9453306e5c34row9_col1\" class=\"data row9 col1\" >0.611303</td>\n",
       "                        <td id=\"T_2f90708c_6455_11e9_974c_9453306e5c34row9_col2\" class=\"data row9 col2\" >28.5046</td>\n",
       "            </tr>\n",
       "            <tr>\n",
       "                        <th id=\"T_2f90708c_6455_11e9_974c_9453306e5c34level0_row10\" class=\"row_heading level0 row10\" >11</th>\n",
       "                        <td id=\"T_2f90708c_6455_11e9_974c_9453306e5c34row10_col0\" class=\"data row10 col0\" >max_depth</td>\n",
       "                        <td id=\"T_2f90708c_6455_11e9_974c_9453306e5c34row10_col1\" class=\"data row10 col1\" >0.613449</td>\n",
       "                        <td id=\"T_2f90708c_6455_11e9_974c_9453306e5c34row10_col2\" class=\"data row10 col2\" >28.3473</td>\n",
       "            </tr>\n",
       "            <tr>\n",
       "                        <th id=\"T_2f90708c_6455_11e9_974c_9453306e5c34level0_row11\" class=\"row_heading level0 row11\" >12</th>\n",
       "                        <td id=\"T_2f90708c_6455_11e9_974c_9453306e5c34row11_col0\" class=\"data row11 col0\" >max_depth</td>\n",
       "                        <td id=\"T_2f90708c_6455_11e9_974c_9453306e5c34row11_col1\" class=\"data row11 col1\" >0.609872</td>\n",
       "                        <td id=\"T_2f90708c_6455_11e9_974c_9453306e5c34row11_col2\" class=\"data row11 col2\" >28.6096</td>\n",
       "            </tr>\n",
       "            <tr>\n",
       "                        <th id=\"T_2f90708c_6455_11e9_974c_9453306e5c34level0_row12\" class=\"row_heading level0 row12\" >13</th>\n",
       "                        <td id=\"T_2f90708c_6455_11e9_974c_9453306e5c34row12_col0\" class=\"data row12 col0\" >max_depth</td>\n",
       "                        <td id=\"T_2f90708c_6455_11e9_974c_9453306e5c34row12_col1\" class=\"data row12 col1\" >0.491271</td>\n",
       "                        <td id=\"T_2f90708c_6455_11e9_974c_9453306e5c34row12_col2\" class=\"data row12 col2\" >37.307</td>\n",
       "            </tr>\n",
       "            <tr>\n",
       "                        <th id=\"T_2f90708c_6455_11e9_974c_9453306e5c34level0_row13\" class=\"row_heading level0 row13\" >14</th>\n",
       "                        <td id=\"T_2f90708c_6455_11e9_974c_9453306e5c34row13_col0\" class=\"data row13 col0\" >max_depth</td>\n",
       "                        <td id=\"T_2f90708c_6455_11e9_974c_9453306e5c34row13_col1\" class=\"data row13 col1\" >0.482889</td>\n",
       "                        <td id=\"T_2f90708c_6455_11e9_974c_9453306e5c34row13_col2\" class=\"data row13 col2\" >37.9217</td>\n",
       "            </tr>\n",
       "            <tr>\n",
       "                        <th id=\"T_2f90708c_6455_11e9_974c_9453306e5c34level0_row14\" class=\"row_heading level0 row14\" >15</th>\n",
       "                        <td id=\"T_2f90708c_6455_11e9_974c_9453306e5c34row14_col0\" class=\"data row14 col0\" >max_depth</td>\n",
       "                        <td id=\"T_2f90708c_6455_11e9_974c_9453306e5c34row14_col1\" class=\"data row14 col1\" >0.482009</td>\n",
       "                        <td id=\"T_2f90708c_6455_11e9_974c_9453306e5c34row14_col2\" class=\"data row14 col2\" >37.9862</td>\n",
       "            </tr>\n",
       "            <tr>\n",
       "                        <th id=\"T_2f90708c_6455_11e9_974c_9453306e5c34level0_row15\" class=\"row_heading level0 row15\" >16</th>\n",
       "                        <td id=\"T_2f90708c_6455_11e9_974c_9453306e5c34row15_col0\" class=\"data row15 col0\" >max_depth</td>\n",
       "                        <td id=\"T_2f90708c_6455_11e9_974c_9453306e5c34row15_col1\" class=\"data row15 col1\" >0.629578</td>\n",
       "                        <td id=\"T_2f90708c_6455_11e9_974c_9453306e5c34row15_col2\" class=\"data row15 col2\" >27.1645</td>\n",
       "            </tr>\n",
       "            <tr>\n",
       "                        <th id=\"T_2f90708c_6455_11e9_974c_9453306e5c34level0_row16\" class=\"row_heading level0 row16\" >17</th>\n",
       "                        <td id=\"T_2f90708c_6455_11e9_974c_9453306e5c34row16_col0\" class=\"data row16 col0\" >max_depth</td>\n",
       "                        <td id=\"T_2f90708c_6455_11e9_974c_9453306e5c34row16_col1\" class=\"data row16 col1\" >0.607716</td>\n",
       "                        <td id=\"T_2f90708c_6455_11e9_974c_9453306e5c34row16_col2\" class=\"data row16 col2\" >28.7676</td>\n",
       "            </tr>\n",
       "            <tr>\n",
       "                        <th id=\"T_2f90708c_6455_11e9_974c_9453306e5c34level0_row17\" class=\"row_heading level0 row17\" >18</th>\n",
       "                        <td id=\"T_2f90708c_6455_11e9_974c_9453306e5c34row17_col0\" class=\"data row17 col0\" >max_depth</td>\n",
       "                        <td id=\"T_2f90708c_6455_11e9_974c_9453306e5c34row17_col1\" class=\"data row17 col1\" >0.614583</td>\n",
       "                        <td id=\"T_2f90708c_6455_11e9_974c_9453306e5c34row17_col2\" class=\"data row17 col2\" >28.2641</td>\n",
       "            </tr>\n",
       "            <tr>\n",
       "                        <th id=\"T_2f90708c_6455_11e9_974c_9453306e5c34level0_row18\" class=\"row_heading level0 row18\" >19</th>\n",
       "                        <td id=\"T_2f90708c_6455_11e9_974c_9453306e5c34row18_col0\" class=\"data row18 col0\" >max_depth</td>\n",
       "                        <td id=\"T_2f90708c_6455_11e9_974c_9453306e5c34row18_col1\" class=\"data row18 col1\" >0.495962</td>\n",
       "                        <td id=\"T_2f90708c_6455_11e9_974c_9453306e5c34row18_col2\" class=\"data row18 col2\" >36.963</td>\n",
       "            </tr>\n",
       "            <tr>\n",
       "                        <th id=\"T_2f90708c_6455_11e9_974c_9453306e5c34level0_row19\" class=\"row_heading level0 row19\" >20</th>\n",
       "                        <td id=\"T_2f90708c_6455_11e9_974c_9453306e5c34row19_col0\" class=\"data row19 col0\" >max_depth</td>\n",
       "                        <td id=\"T_2f90708c_6455_11e9_974c_9453306e5c34row19_col1\" class=\"data row19 col1\" >0.483963</td>\n",
       "                        <td id=\"T_2f90708c_6455_11e9_974c_9453306e5c34row19_col2\" class=\"data row19 col2\" >37.843</td>\n",
       "            </tr>\n",
       "            <tr>\n",
       "                        <th id=\"T_2f90708c_6455_11e9_974c_9453306e5c34level0_row20\" class=\"row_heading level0 row20\" >21</th>\n",
       "                        <td id=\"T_2f90708c_6455_11e9_974c_9453306e5c34row20_col0\" class=\"data row20 col0\" >max_depth</td>\n",
       "                        <td id=\"T_2f90708c_6455_11e9_974c_9453306e5c34row20_col1\" class=\"data row20 col1\" >0.470971</td>\n",
       "                        <td id=\"T_2f90708c_6455_11e9_974c_9453306e5c34row20_col2\" class=\"data row20 col2\" >38.7957</td>\n",
       "            </tr>\n",
       "            <tr>\n",
       "                        <th id=\"T_2f90708c_6455_11e9_974c_9453306e5c34level0_row21\" class=\"row_heading level0 row21\" >22</th>\n",
       "                        <td id=\"T_2f90708c_6455_11e9_974c_9453306e5c34row21_col0\" class=\"data row21 col0\" >max_depth</td>\n",
       "                        <td id=\"T_2f90708c_6455_11e9_974c_9453306e5c34row21_col1\" class=\"data row21 col1\" >0.470971</td>\n",
       "                        <td id=\"T_2f90708c_6455_11e9_974c_9453306e5c34row21_col2\" class=\"data row21 col2\" >38.7957</td>\n",
       "            </tr>\n",
       "            <tr>\n",
       "                        <th id=\"T_2f90708c_6455_11e9_974c_9453306e5c34level0_row22\" class=\"row_heading level0 row22\" >23</th>\n",
       "                        <td id=\"T_2f90708c_6455_11e9_974c_9453306e5c34row22_col0\" class=\"data row22 col0\" >max_depth</td>\n",
       "                        <td id=\"T_2f90708c_6455_11e9_974c_9453306e5c34row22_col1\" class=\"data row22 col1\" >0.470971</td>\n",
       "                        <td id=\"T_2f90708c_6455_11e9_974c_9453306e5c34row22_col2\" class=\"data row22 col2\" >38.7957</td>\n",
       "            </tr>\n",
       "            <tr>\n",
       "                        <th id=\"T_2f90708c_6455_11e9_974c_9453306e5c34level0_row23\" class=\"row_heading level0 row23\" >24</th>\n",
       "                        <td id=\"T_2f90708c_6455_11e9_974c_9453306e5c34row23_col0\" class=\"data row23 col0\" >max_depth</td>\n",
       "                        <td id=\"T_2f90708c_6455_11e9_974c_9453306e5c34row23_col1\" class=\"data row23 col1\" >0.470971</td>\n",
       "                        <td id=\"T_2f90708c_6455_11e9_974c_9453306e5c34row23_col2\" class=\"data row23 col2\" >38.7957</td>\n",
       "            </tr>\n",
       "            <tr>\n",
       "                        <th id=\"T_2f90708c_6455_11e9_974c_9453306e5c34level0_row24\" class=\"row_heading level0 row24\" >25</th>\n",
       "                        <td id=\"T_2f90708c_6455_11e9_974c_9453306e5c34row24_col0\" class=\"data row24 col0\" >max_depth</td>\n",
       "                        <td id=\"T_2f90708c_6455_11e9_974c_9453306e5c34row24_col1\" class=\"data row24 col1\" >0.470971</td>\n",
       "                        <td id=\"T_2f90708c_6455_11e9_974c_9453306e5c34row24_col2\" class=\"data row24 col2\" >38.7957</td>\n",
       "            </tr>\n",
       "            <tr>\n",
       "                        <th id=\"T_2f90708c_6455_11e9_974c_9453306e5c34level0_row25\" class=\"row_heading level0 row25\" >26</th>\n",
       "                        <td id=\"T_2f90708c_6455_11e9_974c_9453306e5c34row25_col0\" class=\"data row25 col0\" >max_depth</td>\n",
       "                        <td id=\"T_2f90708c_6455_11e9_974c_9453306e5c34row25_col1\" class=\"data row25 col1\" >0.470971</td>\n",
       "                        <td id=\"T_2f90708c_6455_11e9_974c_9453306e5c34row25_col2\" class=\"data row25 col2\" >38.7957</td>\n",
       "            </tr>\n",
       "            <tr>\n",
       "                        <th id=\"T_2f90708c_6455_11e9_974c_9453306e5c34level0_row26\" class=\"row_heading level0 row26\" >27</th>\n",
       "                        <td id=\"T_2f90708c_6455_11e9_974c_9453306e5c34row26_col0\" class=\"data row26 col0\" >max_depth</td>\n",
       "                        <td id=\"T_2f90708c_6455_11e9_974c_9453306e5c34row26_col1\" class=\"data row26 col1\" >0.470971</td>\n",
       "                        <td id=\"T_2f90708c_6455_11e9_974c_9453306e5c34row26_col2\" class=\"data row26 col2\" >38.7957</td>\n",
       "            </tr>\n",
       "            <tr>\n",
       "                        <th id=\"T_2f90708c_6455_11e9_974c_9453306e5c34level0_row27\" class=\"row_heading level0 row27\" >28</th>\n",
       "                        <td id=\"T_2f90708c_6455_11e9_974c_9453306e5c34row27_col0\" class=\"data row27 col0\" >max_depth</td>\n",
       "                        <td id=\"T_2f90708c_6455_11e9_974c_9453306e5c34row27_col1\" class=\"data row27 col1\" >0.470971</td>\n",
       "                        <td id=\"T_2f90708c_6455_11e9_974c_9453306e5c34row27_col2\" class=\"data row27 col2\" >38.7957</td>\n",
       "            </tr>\n",
       "            <tr>\n",
       "                        <th id=\"T_2f90708c_6455_11e9_974c_9453306e5c34level0_row28\" class=\"row_heading level0 row28\" >29</th>\n",
       "                        <td id=\"T_2f90708c_6455_11e9_974c_9453306e5c34row28_col0\" class=\"data row28 col0\" >max_depth</td>\n",
       "                        <td id=\"T_2f90708c_6455_11e9_974c_9453306e5c34row28_col1\" class=\"data row28 col1\" >0.470971</td>\n",
       "                        <td id=\"T_2f90708c_6455_11e9_974c_9453306e5c34row28_col2\" class=\"data row28 col2\" >38.7957</td>\n",
       "            </tr>\n",
       "            <tr>\n",
       "                        <th id=\"T_2f90708c_6455_11e9_974c_9453306e5c34level0_row29\" class=\"row_heading level0 row29\" >30</th>\n",
       "                        <td id=\"T_2f90708c_6455_11e9_974c_9453306e5c34row29_col0\" class=\"data row29 col0\" >max_depth</td>\n",
       "                        <td id=\"T_2f90708c_6455_11e9_974c_9453306e5c34row29_col1\" class=\"data row29 col1\" >0.470971</td>\n",
       "                        <td id=\"T_2f90708c_6455_11e9_974c_9453306e5c34row29_col2\" class=\"data row29 col2\" >38.7957</td>\n",
       "            </tr>\n",
       "    </tbody></table>"
      ],
      "text/plain": [
       "<pandas.io.formats.style.Styler at 0x230d30e4fd0>"
      ]
     },
     "metadata": {},
     "output_type": "display_data"
    },
    {
     "data": {
      "text/plain": [
       "(            param_name   r2_test   MSE_test\n",
       " param_value                                \n",
       " 1            max_depth  0.360216  46.917803\n",
       " 2            max_depth  0.645550  25.993191\n",
       " 3            max_depth  0.667922  24.352541\n",
       " 4            max_depth  0.722655  20.338781\n",
       " 5            max_depth  0.746528  18.588071\n",
       " 6            max_depth  0.751589  18.216889\n",
       " 7            max_depth  0.626349  27.401249\n",
       " 8            max_depth  0.655584  25.257301\n",
       " 9            max_depth  0.624060  27.569132\n",
       " 10           max_depth  0.611303  28.504646\n",
       " 11           max_depth  0.613449  28.347261\n",
       " 12           max_depth  0.609872  28.609554\n",
       " 13           max_depth  0.491271  37.307010\n",
       " 14           max_depth  0.482889  37.921697\n",
       " 15           max_depth  0.482009  37.986231\n",
       " 16           max_depth  0.629578  27.164453\n",
       " 17           max_depth  0.607716  28.767637\n",
       " 18           max_depth  0.614583  28.264112\n",
       " 19           max_depth  0.495962  36.963012\n",
       " 20           max_depth  0.483963  37.842966\n",
       " 21           max_depth  0.470971  38.795686\n",
       " 22           max_depth  0.470971  38.795686\n",
       " 23           max_depth  0.470971  38.795686\n",
       " 24           max_depth  0.470971  38.795686\n",
       " 25           max_depth  0.470971  38.795686\n",
       " 26           max_depth  0.470971  38.795686\n",
       " 27           max_depth  0.470971  38.795686\n",
       " 28           max_depth  0.470971  38.795686\n",
       " 29           max_depth  0.470971  38.795686\n",
       " 30           max_depth  0.470971  38.795686,\n",
       " <pandas.io.formats.style.Styler at 0x230d30e4fd0>)"
      ]
     },
     "execution_count": 18,
     "metadata": {},
     "output_type": "execute_result"
    },
    {
     "data": {
      "image/png": "[encoded data removed]",
      "text/plain": [
       "<Figure size 432x288 with 2 Axes>"
      ]
     },
     "metadata": {
      "needs_background": "light"
     },
     "output_type": "display_data"
    }
   ],
   "source": [
    "# Your observations here \n",
    "# TUNING DTR \n",
    "param_name = 'max_depth'\n",
    "param_values = list(range(1,31))\n",
    "tune_params_trees(param_name,param_values)\n",
    "# tune_params_dtr\n",
    "# df_style"
   ]
  },
  {
   "cell_type": "code",
   "execution_count": null,
   "metadata": {},
   "outputs": [],
   "source": [
    "# Max depth of 6 has best r2 and MSE values"
   ]
  },
  {
   "cell_type": "markdown",
   "metadata": {},
   "source": [
    "## More Hyperparameter Tuning \n",
    "\n",
    "- Repeat the above process for `min_samples_split` parameter\n",
    "\n",
    "- Use a a range of values from 2-10 for this parameter \n",
    "- Use `random_state=45` for reproducibility\n",
    "- Visualize the output and comment on results as above"
   ]
  },
  {
   "cell_type": "code",
   "execution_count": null,
   "metadata": {},
   "outputs": [],
   "source": [
    "# Your code here \n",
    "param_name = 'min_samples_split'\n",
    "param_values = list(range(2,11))\n",
    "res_df, df_style = tune_params_dtr(param_name,param_values)\n",
    "df_style"
   ]
  },
  {
   "cell_type": "code",
   "execution_count": null,
   "metadata": {},
   "outputs": [],
   "source": [
    "# Your observations here \n",
    "# performance is optimatl at min_samples_split 5-9. Use 5"
   ]
  },
  {
   "cell_type": "markdown",
   "metadata": {},
   "source": [
    "# Run the \"Optimized\" Model \n",
    "\n",
    "- Use the best values for max_depth and min_samples_split found in previous runs and run an optimized model with these values. \n",
    "- Calculate the performance and comment on the output "
   ]
  },
  {
   "cell_type": "code",
   "execution_count": null,
   "metadata": {},
   "outputs": [],
   "source": [
    "# Your code here \n",
    "params={\n",
    "    'max_depth':6,\n",
    "    'min_samples_split':5\n",
    "}\n",
    "\n",
    "dtr_final = DecisionTreeRegressor(random_state=45)\n",
    "dtr_final.set_params(**params)\n",
    "\n",
    "dtr_final.fit(X_train,y_train)\n",
    "y_pred = dtr_final.predict(X_test)\n",
    "\n",
    "r2, mse = performance(y_test, y_pred)\n",
    "print(r2,mse)"
   ]
  },
  {
   "cell_type": "code",
   "execution_count": null,
   "metadata": {},
   "outputs": [],
   "source": [
    "# Your observation\n",
    "# model performance has improved a lot\n"
   ]
  },
  {
   "cell_type": "markdown",
   "metadata": {},
   "source": [
    "## Visualize the tree\n",
    "- Visualize the trained model as we did in previous sections\n",
    "- Show the labels for each variable being split in a node\n",
    "- Interpret the tree"
   ]
  },
  {
   "cell_type": "code",
   "execution_count": null,
   "metadata": {},
   "outputs": [],
   "source": [
    "ls"
   ]
  },
  {
   "cell_type": "code",
   "execution_count": null,
   "metadata": {},
   "outputs": [],
   "source": [
    "# Your code here \n",
    "from sklearn.externals.six import StringIO\n",
    "from IPython.display import Image\n",
    "from sklearn.tree import export_graphviz\n",
    "import pydotplus\n",
    "dot_data = StringIO()\n",
    "export_graphviz(dtr_final, out_file=dot_data, filled=True, rounded=True,special_characters=True, feature_names=X.columns)\n",
    "graph = pydotplus.graph_from_dot_data(dot_data.getvalue())\n",
    "Image(graph.create_png())"
   ]
  },
  {
   "cell_type": "code",
   "execution_count": null,
   "metadata": {},
   "outputs": [],
   "source": [
    "#Your observations here \n",
    "\n"
   ]
  },
  {
   "cell_type": "markdown",
   "metadata": {},
   "source": [
    "## Level Up - Optional \n",
    "\n",
    "- How about bringing in some more features from the original dataset which may be good predictors\n",
    "- Also , Tune more more hyper parameters like max-features to find the optimal model \n"
   ]
  },
  {
   "cell_type": "markdown",
   "metadata": {},
   "source": [
    "## Summary \n",
    "\n",
    "In this lab, we looked at applying a decision tree based regression analysis on the Boston Housing Dataset. We saw how to train various models to find the optimal values for pruning and limiting the growth of the trees. We also looked at how to extract some rules from visualizing trees , that might be used for decision making later. In the next section we shall look at running \"Grid Searches\" for identifying the best model while tuning all required hyper-parameters - at once. "
   ]
  }
 ],
 "metadata": {
  "kernelspec": {
   "display_name": "learn-env",
   "language": "python",
   "name": "learn-env"
  },
  "language_info": {
   "codemirror_mode": {
    "name": "ipython",
    "version": 3
   },
   "file_extension": ".py",
   "mimetype": "text/x-python",
   "name": "python",
   "nbconvert_exporter": "python",
   "pygments_lexer": "ipython3",
   "version": "3.6.8"
  },
  "toc": {
   "base_numbering": 1,
   "nav_menu": {},
   "number_sections": false,
   "sideBar": true,
   "skip_h1_title": false,
   "title_cell": "Table of Contents",
   "title_sidebar": "Contents",
   "toc_cell": true,
   "toc_position": {},
   "toc_section_display": true,
   "toc_window_display": true
  },
  "varInspector": {
   "cols": {
    "lenName": 16,
    "lenType": 16,
    "lenVar": 40
   },
   "kernels_config": {
    "python": {
     "delete_cmd_postfix": "",
     "delete_cmd_prefix": "del ",
     "library": "var_list.py",
     "varRefreshCmd": "print(var_dic_list())"
    },
    "r": {
     "delete_cmd_postfix": ") ",
     "delete_cmd_prefix": "rm(",
     "library": "var_list.r",
     "varRefreshCmd": "cat(var_dic_list()) "
    }
   },
   "types_to_exclude": [
    "module",
    "function",
    "builtin_function_or_method",
    "instance",
    "_Feature"
   ],
   "window_display": true
  }
 },
 "nbformat": 4,
 "nbformat_minor": 2
}
